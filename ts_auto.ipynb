{
 "cells": [
  {
   "cell_type": "code",
   "execution_count": 7,
   "metadata": {
    "collapsed": true
   },
   "outputs": [],
   "source": [
    "import tensorflow as tf\n",
    "import h5py"
   ]
  },
  {
   "cell_type": "code",
   "execution_count": 2,
   "metadata": {},
   "outputs": [
    {
     "name": "stderr",
     "output_type": "stream",
     "text": [
      "Using TensorFlow backend.\n"
     ]
    }
   ],
   "source": [
    "from __future__ import print_function\n",
    "\n",
    "import os\n",
    "import numpy as np\n",
    "from keras.layers import RepeatVector\n",
    "from keras.layers.core import Dropout\n",
    "from keras.layers.recurrent import LSTM\n",
    "from keras.models import Sequential\n",
    "from keras.models import load_model\n",
    "\n",
    "np.random.seed(123)"
   ]
  },
  {
   "cell_type": "code",
   "execution_count": 3,
   "metadata": {},
   "outputs": [],
   "source": [
    "def prepare_sequences(x_train, window_length, random_indices):\n",
    "    full_sequence = x_train.flatten()\n",
    "    windows = []\n",
    "    outliers = []\n",
    "    for window_start in range(0, len(full_sequence) - window_length + 1):\n",
    "        window_end = window_start + window_length\n",
    "        window_range = range(window_start, window_end)\n",
    "        window = list(full_sequence[window_range])\n",
    "        contain_outlier = len(set(window_range).intersection(set(random_indices))) > 0\n",
    "        outliers.append(contain_outlier)\n",
    "        windows.append(window)\n",
    "    return np.expand_dims(np.array(windows), axis=2), outliers\n",
    "\n",
    "\n",
    "def get_signal(size, outliers_size=0.01):\n",
    "    sig = np.expand_dims(np.random.normal(loc=0, scale=1, size=(size, 1)), axis=1)\n",
    "    if outliers_size < 1:  # percentage.\n",
    "        outliers_size = int(size * outliers_size)\n",
    "    random_indices = np.random.choice(range(size), size=outliers_size, replace=False)\n",
    "    sig[random_indices] = np.random.randint(6, 9, 1)[0]\n",
    "    return sig, random_indices\n",
    "\n",
    "\n",
    "def tp_fn_fp_tn(total, expected, actual):\n",
    "    tp = len(set(expected).intersection(set(actual)))\n",
    "    fn = len(set(expected) - set(actual))\n",
    "    fp = len(set(actual) - set(expected))\n",
    "    tn = len((total - set(expected)).intersection(total - set(actual)))\n",
    "    return tp, fn, fp, tn"
   ]
  },
  {
   "cell_type": "code",
   "execution_count": 8,
   "metadata": {},
   "outputs": [
    {
     "name": "stderr",
     "output_type": "stream",
     "text": [
      "/Library/Frameworks/Python.framework/Versions/3.5/lib/python3.5/site-packages/ipykernel_launcher.py:24: UserWarning: Update your `Dropout` call to the Keras 2 API: `Dropout(rate=0.1)`\n",
      "/Library/Frameworks/Python.framework/Versions/3.5/lib/python3.5/site-packages/keras/models.py:848: UserWarning: The `nb_epoch` argument in `fit` has been renamed `epochs`.\n",
      "  warnings.warn('The `nb_epoch` argument in `fit` '\n"
     ]
    },
    {
     "name": "stdout",
     "output_type": "stream",
     "text": [
      "Train on 991 samples, validate on 991 samples\n",
      "Epoch 1/5\n",
      "991/991 [==============================] - 3s - loss: 1.0030 - val_loss: 1.5819\n",
      "Epoch 2/5\n",
      "991/991 [==============================] - 1s - loss: 0.9864 - val_loss: 1.5676\n",
      "Epoch 3/5\n",
      "991/991 [==============================] - 1s - loss: 0.9684 - val_loss: 1.5512\n",
      "Epoch 4/5\n",
      "991/991 [==============================] - 1s - loss: 0.9468 - val_loss: 1.5273\n",
      "Epoch 5/5\n",
      "991/991 [==============================] - 1s - loss: 0.9189 - val_loss: 1.4955\n"
     ]
    },
    {
     "ename": "ImportError",
     "evalue": "`save_model` requires h5py.",
     "output_type": "error",
     "traceback": [
      "\u001b[0;31m---------------------------------------------------------------------------\u001b[0m",
      "\u001b[0;31mImportError\u001b[0m                               Traceback (most recent call last)",
      "\u001b[0;32m<ipython-input-8-577c5a00d177>\u001b[0m in \u001b[0;36m<module>\u001b[0;34m()\u001b[0m\n\u001b[1;32m     26\u001b[0m     \u001b[0mm\u001b[0m\u001b[0;34m.\u001b[0m\u001b[0mcompile\u001b[0m\u001b[0;34m(\u001b[0m\u001b[0mloss\u001b[0m\u001b[0;34m=\u001b[0m\u001b[0;34m'mse'\u001b[0m\u001b[0;34m,\u001b[0m \u001b[0moptimizer\u001b[0m\u001b[0;34m=\u001b[0m\u001b[0;34m'adam'\u001b[0m\u001b[0;34m)\u001b[0m\u001b[0;34m\u001b[0m\u001b[0m\n\u001b[1;32m     27\u001b[0m     \u001b[0mm\u001b[0m\u001b[0;34m.\u001b[0m\u001b[0mfit\u001b[0m\u001b[0;34m(\u001b[0m\u001b[0mx_train\u001b[0m\u001b[0;34m,\u001b[0m \u001b[0mx_train\u001b[0m\u001b[0;34m,\u001b[0m \u001b[0mbatch_size\u001b[0m\u001b[0;34m=\u001b[0m\u001b[0;36m64\u001b[0m\u001b[0;34m,\u001b[0m \u001b[0mnb_epoch\u001b[0m\u001b[0;34m=\u001b[0m\u001b[0;36m5\u001b[0m\u001b[0;34m,\u001b[0m \u001b[0mvalidation_data\u001b[0m\u001b[0;34m=\u001b[0m\u001b[0;34m(\u001b[0m\u001b[0mx_test\u001b[0m\u001b[0;34m,\u001b[0m \u001b[0mx_test\u001b[0m\u001b[0;34m)\u001b[0m\u001b[0;34m)\u001b[0m\u001b[0;34m\u001b[0m\u001b[0m\n\u001b[0;32m---> 28\u001b[0;31m     \u001b[0mm\u001b[0m\u001b[0;34m.\u001b[0m\u001b[0msave\u001b[0m\u001b[0;34m(\u001b[0m\u001b[0mmodel_file\u001b[0m\u001b[0;34m)\u001b[0m\u001b[0;34m\u001b[0m\u001b[0m\n\u001b[0m\u001b[1;32m     29\u001b[0m \u001b[0;34m\u001b[0m\u001b[0m\n\u001b[1;32m     30\u001b[0m \u001b[0mpred_x_test\u001b[0m \u001b[0;34m=\u001b[0m \u001b[0mm\u001b[0m\u001b[0;34m.\u001b[0m\u001b[0mpredict\u001b[0m\u001b[0;34m(\u001b[0m\u001b[0mx_test\u001b[0m\u001b[0;34m)\u001b[0m\u001b[0;34m\u001b[0m\u001b[0m\n",
      "\u001b[0;32m/Library/Frameworks/Python.framework/Versions/3.5/lib/python3.5/site-packages/keras/engine/topology.py\u001b[0m in \u001b[0;36msave\u001b[0;34m(self, filepath, overwrite, include_optimizer)\u001b[0m\n\u001b[1;32m   2551\u001b[0m         \"\"\"\n\u001b[1;32m   2552\u001b[0m         \u001b[0;32mfrom\u001b[0m \u001b[0;34m.\u001b[0m\u001b[0;34m.\u001b[0m\u001b[0mmodels\u001b[0m \u001b[0;32mimport\u001b[0m \u001b[0msave_model\u001b[0m\u001b[0;34m\u001b[0m\u001b[0m\n\u001b[0;32m-> 2553\u001b[0;31m         \u001b[0msave_model\u001b[0m\u001b[0;34m(\u001b[0m\u001b[0mself\u001b[0m\u001b[0;34m,\u001b[0m \u001b[0mfilepath\u001b[0m\u001b[0;34m,\u001b[0m \u001b[0moverwrite\u001b[0m\u001b[0;34m,\u001b[0m \u001b[0minclude_optimizer\u001b[0m\u001b[0;34m)\u001b[0m\u001b[0;34m\u001b[0m\u001b[0m\n\u001b[0m\u001b[1;32m   2554\u001b[0m \u001b[0;34m\u001b[0m\u001b[0m\n\u001b[1;32m   2555\u001b[0m     \u001b[0;32mdef\u001b[0m \u001b[0msave_weights\u001b[0m\u001b[0;34m(\u001b[0m\u001b[0mself\u001b[0m\u001b[0;34m,\u001b[0m \u001b[0mfilepath\u001b[0m\u001b[0;34m,\u001b[0m \u001b[0moverwrite\u001b[0m\u001b[0;34m=\u001b[0m\u001b[0;32mTrue\u001b[0m\u001b[0;34m)\u001b[0m\u001b[0;34m:\u001b[0m\u001b[0;34m\u001b[0m\u001b[0m\n",
      "\u001b[0;32m/Library/Frameworks/Python.framework/Versions/3.5/lib/python3.5/site-packages/keras/models.py\u001b[0m in \u001b[0;36msave_model\u001b[0;34m(model, filepath, overwrite, include_optimizer)\u001b[0m\n\u001b[1;32m     54\u001b[0m \u001b[0;34m\u001b[0m\u001b[0m\n\u001b[1;32m     55\u001b[0m     \u001b[0;32mif\u001b[0m \u001b[0mh5py\u001b[0m \u001b[0;32mis\u001b[0m \u001b[0;32mNone\u001b[0m\u001b[0;34m:\u001b[0m\u001b[0;34m\u001b[0m\u001b[0m\n\u001b[0;32m---> 56\u001b[0;31m         \u001b[0;32mraise\u001b[0m \u001b[0mImportError\u001b[0m\u001b[0;34m(\u001b[0m\u001b[0;34m'`save_model` requires h5py.'\u001b[0m\u001b[0;34m)\u001b[0m\u001b[0;34m\u001b[0m\u001b[0m\n\u001b[0m\u001b[1;32m     57\u001b[0m \u001b[0;34m\u001b[0m\u001b[0m\n\u001b[1;32m     58\u001b[0m     \u001b[0;32mdef\u001b[0m \u001b[0mget_json_type\u001b[0m\u001b[0;34m(\u001b[0m\u001b[0mobj\u001b[0m\u001b[0;34m)\u001b[0m\u001b[0;34m:\u001b[0m\u001b[0;34m\u001b[0m\u001b[0m\n",
      "\u001b[0;31mImportError\u001b[0m: `save_model` requires h5py."
     ]
    }
   ],
   "source": [
    "window_length = 10\n",
    "select_only_last_state = False\n",
    "model_file = 'model.h5'\n",
    "hidden_dim = 16\n",
    "\n",
    "# no outliers.\n",
    "signal_train, _ = get_signal(1000, outliers_size=0)\n",
    "x_train, _ = prepare_sequences(signal_train, window_length, [])\n",
    "\n",
    "# 1 percent are outliers.\n",
    "signal_test, random_indices = get_signal(1000, outliers_size=0.01)\n",
    "x_test, contain_outliers = prepare_sequences(signal_test, window_length, random_indices)\n",
    "outlier_indices = np.where(contain_outliers)[0]\n",
    "\n",
    "if os.path.isfile(model_file):\n",
    "    m = load_model(model_file)\n",
    "else:\n",
    "    m = Sequential()\n",
    "    if select_only_last_state:\n",
    "        m.add(LSTM(hidden_dim, input_shape=(window_length, 1), return_sequences=False))\n",
    "        m.add(RepeatVector(window_length))\n",
    "    else:\n",
    "        m.add(LSTM(hidden_dim, input_shape=(window_length, 1), return_sequences=True))\n",
    "    m.add(Dropout(p=0.1))\n",
    "    m.add(LSTM(1, return_sequences=True, activation='linear'))\n",
    "    m.compile(loss='mse', optimizer='adam')\n",
    "    m.fit(x_train, x_train, batch_size=64, nb_epoch=5, validation_data=(x_test, x_test))\n",
    "    m.save(model_file)\n",
    "\n",
    "pred_x_test = m.predict(x_test)\n",
    "mae_of_predictions = np.squeeze(np.max(np.square(pred_x_test - x_test), axis=1))\n",
    "mae_threshold = np.mean(mae_of_predictions) + np.std(mae_of_predictions)  # can use a running mean instead.\n",
    "actual = np.where(mae_of_predictions > mae_threshold)[0]\n",
    "\n",
    "tp, fn, fp, tn = tp_fn_fp_tn(set(range(len(pred_x_test))), outlier_indices, actual)\n",
    "precision = float(tp) / (tp + fp)\n",
    "hit_rate = float(tp) / (tp + fn)\n",
    "accuracy = float(tp + tn) / (tp + tn + fp + fn)\n",
    "\n",
    "print('precision = {}, hit_rate = {}, accuracy = {}'.format(precision, hit_rate, accuracy))"
   ]
  },
  {
   "cell_type": "code",
   "execution_count": 10,
   "metadata": {},
   "outputs": [
    {
     "name": "stdout",
     "output_type": "stream",
     "text": [
      "Requirement already satisfied: h5py in /Library/Frameworks/Python.framework/Versions/3.5/lib/python3.5/site-packages\r\n",
      "Requirement already satisfied: six in /Library/Frameworks/Python.framework/Versions/3.5/lib/python3.5/site-packages (from h5py)\r\n",
      "Requirement already satisfied: numpy>=1.7 in /Library/Frameworks/Python.framework/Versions/3.5/lib/python3.5/site-packages (from h5py)\r\n"
     ]
    }
   ],
   "source": [
    "!pip install h5py"
   ]
  },
  {
   "cell_type": "code",
   "execution_count": 9,
   "metadata": {},
   "outputs": [
    {
     "name": "stderr",
     "output_type": "stream",
     "text": [
      ".....................................................x...................................................................x....................................s...s......ss....................................................................................................ssssss.................................................................x....x........................x.....x.......................................ssssssssss..................\n",
      "----------------------------------------------------------------------\n",
      "Ran 446 tests in 3.006s\n",
      "\n",
      "OK (skipped=20, expected failures=6)\n"
     ]
    },
    {
     "data": {
      "text/plain": [
       "<unittest.runner.TextTestResult run=446 errors=0 failures=0>"
      ]
     },
     "execution_count": 9,
     "metadata": {},
     "output_type": "execute_result"
    }
   ],
   "source": [
    "import h5py\n",
    "h5py.run_tests()"
   ]
  },
  {
   "cell_type": "code",
   "execution_count": null,
   "metadata": {
    "collapsed": true
   },
   "outputs": [],
   "source": []
  }
 ],
 "metadata": {
  "kernelspec": {
   "display_name": "Python 3",
   "language": "python",
   "name": "python3"
  },
  "language_info": {
   "codemirror_mode": {
    "name": "ipython",
    "version": 3
   },
   "file_extension": ".py",
   "mimetype": "text/x-python",
   "name": "python",
   "nbconvert_exporter": "python",
   "pygments_lexer": "ipython3",
   "version": "3.5.0"
  }
 },
 "nbformat": 4,
 "nbformat_minor": 2
}
